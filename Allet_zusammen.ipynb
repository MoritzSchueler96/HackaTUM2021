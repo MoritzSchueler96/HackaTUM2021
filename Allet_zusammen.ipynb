{
 "cells": [
  {
   "cell_type": "code",
   "execution_count": 1,
   "metadata": {},
   "outputs": [],
   "source": [
    "import torch\n",
    "import subprocess\n",
    "import numpy as np\n",
    "import matplotlib.pyplot as plt\n",
    "import matplotlib.image as mpimg\n",
    "from IPython.display import Audio\n",
    "\n",
    "import scipy.io.wavfile\n",
    "import os\n",
    "import sys\n",
    "from moviepy.editor import *\n",
    "\n",
    "    # Importing the PIL library\n",
    "from PIL import Image\n",
    "from PIL import ImageDraw\n",
    "from PIL import ImageFont"
   ]
  },
  {
   "cell_type": "code",
   "execution_count": 2,
   "metadata": {},
   "outputs": [],
   "source": [
    "import os\n",
    "os.environ['MKL_THREADING_LAYER'] = 'GNU'"
   ]
  },
  {
   "cell_type": "code",
   "execution_count": 3,
   "metadata": {},
   "outputs": [
    {
     "name": "stdout",
     "output_type": "stream",
     "text": [
      "notebookDir: /home/user/Dokumente/#master/HACKATUM/git/HackaTUM2021\n"
     ]
    }
   ],
   "source": [
    "# get path of current file\n",
    "if not 'notebookDir' in globals():\n",
    "    notebookDir = os.getcwd()\n",
    "print('notebookDir: ' + notebookDir)\n",
    "os.chdir(notebookDir)\n",
    "os.chdir(\"text-to-image/vqgan\")"
   ]
  },
  {
   "cell_type": "code",
   "execution_count": 4,
   "metadata": {},
   "outputs": [],
   "source": [
    "PROMPT = '''Produkt P0103 is the most sold product.\n",
    "\n",
    "Many Products, like for example P0103, see a sharp rise in sales at the end of ramadan. Als well as a short, but high peak around christmas.\n",
    "\n",
    "Promotions seem to have no correlation with high sales numbers.\n",
    "'''\n",
    "n=1\n",
    "PATH=\"../output/vqgan/gen.png\""
   ]
  },
  {
   "cell_type": "code",
   "execution_count": 5,
   "metadata": {},
   "outputs": [
    {
     "name": "stdout",
     "output_type": "stream",
     "text": [
      "b'Working with z of shape (1, 256, 16, 16) = 65536 dimensions.\\nloaded pretrained LPIPS loss from taming/modules/autoencoder/lpips/vgg.pth\\nVQLPIPSWithDiscriminator running with hinge loss.\\nRestored from vqgan_imagenet_f16_16384.ckpt\\n' b'/home/user/anaconda3/lib/python3.8/site-packages/pytorch_lightning/utilities/distributed.py:69: DeprecationWarning: `pytorch_lightning.metrics.*` module has been renamed to `torchmetrics.*` and split off to its own package (https://github.com/PyTorchLightning/metrics) since v1.3 and will be removed in v1.5\\n  warnings.warn(*args, **kwargs)\\n'\n"
     ]
    }
   ],
   "source": [
    "cmd = '''python -u main.py test cc12m_32x1024_vitgan.th \"''' + PROMPT + '''\"''' + ''' --nb-repeats=''' + str(n) + ''' --out-path=''' + PATH + ''' --images-per-row=''' + str(n)\n",
    "\n",
    "p = subprocess.Popen(cmd, stdout=subprocess.PIPE, shell=True, stderr=subprocess.PIPE)\n",
    "stdout, stderr = p.communicate()\n",
    "print(stdout, stderr)"
   ]
  },
  {
   "cell_type": "code",
   "execution_count": 6,
   "metadata": {},
   "outputs": [
    {
     "name": "stderr",
     "output_type": "stream",
     "text": [
      "Using cache found in /home/user/.cache/torch/hub/snakers4_silero-models_master\n"
     ]
    },
    {
     "data": {
      "text/plain": [
       "RecursiveScriptModule(\n",
       "  original_name=TTSModel\n",
       "  (tacotron): RecursiveScriptModule(\n",
       "    original_name=Tacotron2_jit\n",
       "    (embedding): RecursiveScriptModule(original_name=Embedding)\n",
       "    (encoder): RecursiveScriptModule(\n",
       "      original_name=Encoder\n",
       "      (convolutions): RecursiveScriptModule(\n",
       "        original_name=ModuleList\n",
       "        (0): RecursiveScriptModule(\n",
       "          original_name=Sequential\n",
       "          (0): RecursiveScriptModule(\n",
       "            original_name=ConvNorm\n",
       "            (conv): RecursiveScriptModule(original_name=Conv1d)\n",
       "          )\n",
       "          (1): RecursiveScriptModule(original_name=BatchNorm1d)\n",
       "        )\n",
       "        (1): RecursiveScriptModule(\n",
       "          original_name=Sequential\n",
       "          (0): RecursiveScriptModule(\n",
       "            original_name=ConvNorm\n",
       "            (conv): RecursiveScriptModule(original_name=Conv1d)\n",
       "          )\n",
       "          (1): RecursiveScriptModule(original_name=BatchNorm1d)\n",
       "        )\n",
       "        (2): RecursiveScriptModule(\n",
       "          original_name=Sequential\n",
       "          (0): RecursiveScriptModule(\n",
       "            original_name=ConvNorm\n",
       "            (conv): RecursiveScriptModule(original_name=Conv1d)\n",
       "          )\n",
       "          (1): RecursiveScriptModule(original_name=BatchNorm1d)\n",
       "        )\n",
       "      )\n",
       "      (lstm): RecursiveScriptModule(original_name=LSTM)\n",
       "    )\n",
       "    (decoder): RecursiveScriptModule(\n",
       "      original_name=Decoder\n",
       "      (prenet): RecursiveScriptModule(\n",
       "        original_name=Prenet\n",
       "        (layers): RecursiveScriptModule(\n",
       "          original_name=ModuleList\n",
       "          (0): RecursiveScriptModule(\n",
       "            original_name=LinearNorm\n",
       "            (linear_layer): RecursiveScriptModule(original_name=Linear)\n",
       "          )\n",
       "          (1): RecursiveScriptModule(\n",
       "            original_name=LinearNorm\n",
       "            (linear_layer): RecursiveScriptModule(original_name=Linear)\n",
       "          )\n",
       "        )\n",
       "      )\n",
       "      (attention_rnn): RecursiveScriptModule(original_name=LSTMCell)\n",
       "      (attention_layer): RecursiveScriptModule(\n",
       "        original_name=Attention\n",
       "        (query_layer): RecursiveScriptModule(\n",
       "          original_name=LinearNorm\n",
       "          (linear_layer): RecursiveScriptModule(original_name=Linear)\n",
       "        )\n",
       "        (memory_layer): RecursiveScriptModule(\n",
       "          original_name=LinearNorm\n",
       "          (linear_layer): RecursiveScriptModule(original_name=Linear)\n",
       "        )\n",
       "        (v): RecursiveScriptModule(\n",
       "          original_name=LinearNorm\n",
       "          (linear_layer): RecursiveScriptModule(original_name=Linear)\n",
       "        )\n",
       "        (location_layer): RecursiveScriptModule(\n",
       "          original_name=LocationLayer\n",
       "          (location_conv): RecursiveScriptModule(\n",
       "            original_name=ConvNorm\n",
       "            (conv): RecursiveScriptModule(original_name=Conv1d)\n",
       "          )\n",
       "          (location_dense): RecursiveScriptModule(\n",
       "            original_name=LinearNorm\n",
       "            (linear_layer): RecursiveScriptModule(original_name=Linear)\n",
       "          )\n",
       "        )\n",
       "      )\n",
       "      (decoder_rnn): RecursiveScriptModule(original_name=LSTMCell)\n",
       "      (linear_projection): RecursiveScriptModule(\n",
       "        original_name=LinearNorm\n",
       "        (linear_layer): RecursiveScriptModule(original_name=Linear)\n",
       "      )\n",
       "      (gate_layer): RecursiveScriptModule(\n",
       "        original_name=LinearNorm\n",
       "        (linear_layer): RecursiveScriptModule(original_name=Linear)\n",
       "      )\n",
       "    )\n",
       "    (postnet): RecursiveScriptModule(\n",
       "      original_name=Postnet\n",
       "      (convolutions): RecursiveScriptModule(\n",
       "        original_name=ModuleList\n",
       "        (0): RecursiveScriptModule(\n",
       "          original_name=Sequential\n",
       "          (0): RecursiveScriptModule(\n",
       "            original_name=ConvNorm\n",
       "            (conv): RecursiveScriptModule(original_name=Conv1d)\n",
       "          )\n",
       "          (1): RecursiveScriptModule(original_name=BatchNorm1d)\n",
       "        )\n",
       "        (1): RecursiveScriptModule(\n",
       "          original_name=Sequential\n",
       "          (0): RecursiveScriptModule(\n",
       "            original_name=ConvNorm\n",
       "            (conv): RecursiveScriptModule(original_name=Conv1d)\n",
       "          )\n",
       "          (1): RecursiveScriptModule(original_name=BatchNorm1d)\n",
       "        )\n",
       "        (2): RecursiveScriptModule(\n",
       "          original_name=Sequential\n",
       "          (0): RecursiveScriptModule(\n",
       "            original_name=ConvNorm\n",
       "            (conv): RecursiveScriptModule(original_name=Conv1d)\n",
       "          )\n",
       "          (1): RecursiveScriptModule(original_name=BatchNorm1d)\n",
       "        )\n",
       "        (3): RecursiveScriptModule(\n",
       "          original_name=Sequential\n",
       "          (0): RecursiveScriptModule(\n",
       "            original_name=ConvNorm\n",
       "            (conv): RecursiveScriptModule(original_name=Conv1d)\n",
       "          )\n",
       "          (1): RecursiveScriptModule(original_name=BatchNorm1d)\n",
       "        )\n",
       "        (4): RecursiveScriptModule(\n",
       "          original_name=Sequential\n",
       "          (0): RecursiveScriptModule(\n",
       "            original_name=ConvNorm\n",
       "            (conv): RecursiveScriptModule(original_name=Conv1d)\n",
       "          )\n",
       "          (1): RecursiveScriptModule(original_name=BatchNorm1d)\n",
       "        )\n",
       "      )\n",
       "    )\n",
       "  )\n",
       "  (vocoder): RecursiveScriptModule(\n",
       "    original_name=JitGenerator\n",
       "    (conv_pre): RecursiveScriptModule(\n",
       "      original_name=ModuleList\n",
       "      (0): RecursiveScriptModule(original_name=Conv1d)\n",
       "      (1): RecursiveScriptModule(original_name=Conv1d)\n",
       "    )\n",
       "    (ups): RecursiveScriptModule(\n",
       "      original_name=ModuleList\n",
       "      (0): RecursiveScriptModule(original_name=ConvTranspose1d)\n",
       "      (1): RecursiveScriptModule(original_name=ConvTranspose1d)\n",
       "      (2): RecursiveScriptModule(original_name=ConvTranspose1d)\n",
       "    )\n",
       "    (resblocks): RecursiveScriptModule(\n",
       "      original_name=ModuleList\n",
       "      (0): RecursiveScriptModule(\n",
       "        original_name=ResBlock2\n",
       "        (convs): RecursiveScriptModule(\n",
       "          original_name=ModuleList\n",
       "          (0): RecursiveScriptModule(original_name=Conv1d)\n",
       "          (1): RecursiveScriptModule(original_name=Conv1d)\n",
       "        )\n",
       "      )\n",
       "      (1): RecursiveScriptModule(\n",
       "        original_name=ResBlock2\n",
       "        (convs): RecursiveScriptModule(\n",
       "          original_name=ModuleList\n",
       "          (0): RecursiveScriptModule(original_name=Conv1d)\n",
       "          (1): RecursiveScriptModule(original_name=Conv1d)\n",
       "        )\n",
       "      )\n",
       "      (2): RecursiveScriptModule(\n",
       "        original_name=ResBlock2\n",
       "        (convs): RecursiveScriptModule(\n",
       "          original_name=ModuleList\n",
       "          (0): RecursiveScriptModule(original_name=Conv1d)\n",
       "          (1): RecursiveScriptModule(original_name=Conv1d)\n",
       "        )\n",
       "      )\n",
       "      (3): RecursiveScriptModule(\n",
       "        original_name=ResBlock2\n",
       "        (convs): RecursiveScriptModule(\n",
       "          original_name=ModuleList\n",
       "          (0): RecursiveScriptModule(original_name=Conv1d)\n",
       "          (1): RecursiveScriptModule(original_name=Conv1d)\n",
       "        )\n",
       "      )\n",
       "      (4): RecursiveScriptModule(\n",
       "        original_name=ResBlock2\n",
       "        (convs): RecursiveScriptModule(\n",
       "          original_name=ModuleList\n",
       "          (0): RecursiveScriptModule(original_name=Conv1d)\n",
       "          (1): RecursiveScriptModule(original_name=Conv1d)\n",
       "        )\n",
       "      )\n",
       "      (5): RecursiveScriptModule(\n",
       "        original_name=ResBlock2\n",
       "        (convs): RecursiveScriptModule(\n",
       "          original_name=ModuleList\n",
       "          (0): RecursiveScriptModule(original_name=Conv1d)\n",
       "          (1): RecursiveScriptModule(original_name=Conv1d)\n",
       "        )\n",
       "      )\n",
       "      (6): RecursiveScriptModule(\n",
       "        original_name=ResBlock2\n",
       "        (convs): RecursiveScriptModule(\n",
       "          original_name=ModuleList\n",
       "          (0): RecursiveScriptModule(original_name=Conv1d)\n",
       "          (1): RecursiveScriptModule(original_name=Conv1d)\n",
       "        )\n",
       "      )\n",
       "      (7): RecursiveScriptModule(\n",
       "        original_name=ResBlock2\n",
       "        (convs): RecursiveScriptModule(\n",
       "          original_name=ModuleList\n",
       "          (0): RecursiveScriptModule(original_name=Conv1d)\n",
       "          (1): RecursiveScriptModule(original_name=Conv1d)\n",
       "        )\n",
       "      )\n",
       "      (8): RecursiveScriptModule(\n",
       "        original_name=ResBlock2\n",
       "        (convs): RecursiveScriptModule(\n",
       "          original_name=ModuleList\n",
       "          (0): RecursiveScriptModule(original_name=Conv1d)\n",
       "          (1): RecursiveScriptModule(original_name=Conv1d)\n",
       "        )\n",
       "      )\n",
       "    )\n",
       "    (conv_post): RecursiveScriptModule(original_name=Conv1d)\n",
       "    (conv_pre_layer): RecursiveScriptModule(original_name=Conv1d)\n",
       "  )\n",
       ")"
      ]
     },
     "execution_count": 6,
     "metadata": {},
     "output_type": "execute_result"
    }
   ],
   "source": [
    "\n",
    "language = 'en'\n",
    "speaker = 'lj_16khz'\n",
    "device = torch.device('cpu')\n",
    "model, symbols, sample_rate, example_text, apply_tts = torch.hub.load(repo_or_dir='snakers4/silero-models',\n",
    "                                                                      model='silero_tts',\n",
    "                                                                      language=language,\n",
    "                                                                      speaker=speaker,\n",
    "                                                                      model_math='fp64')\n",
    "torch.set_default_dtype(torch.float64)\n",
    "model = model.to(device)  # gpu or cpu\n",
    "model.eval()"
   ]
  },
  {
   "cell_type": "code",
   "execution_count": 7,
   "metadata": {
    "scrolled": false
   },
   "outputs": [
    {
     "name": "stdout",
     "output_type": "stream",
     "text": [
      "Produkt P0103 is the most sold product. Many Products, like\n",
      "b'Working with z of shape (1, 256, 16, 16) = 65536 dimensions.\\nloaded pretrained LPIPS loss from taming/modules/autoencoder/lpips/vgg.pth\\nVQLPIPSWithDiscriminator running with hinge loss.\\nRestored from vqgan_imagenet_f16_16384.ckpt\\n' b'/home/user/anaconda3/lib/python3.8/site-packages/pytorch_lightning/utilities/distributed.py:69: DeprecationWarning: `pytorch_lightning.metrics.*` module has been renamed to `torchmetrics.*` and split off to its own package (https://github.com/PyTorchLightning/metrics) since v1.3 and will be removed in v1.5\\n  warnings.warn(*args, **kwargs)\\n'\n",
      "b'' b''\n",
      "for example P0103, see a sharp rise in sales at\n",
      "b'Working with z of shape (1, 256, 16, 16) = 65536 dimensions.\\nloaded pretrained LPIPS loss from taming/modules/autoencoder/lpips/vgg.pth\\nVQLPIPSWithDiscriminator running with hinge loss.\\nRestored from vqgan_imagenet_f16_16384.ckpt\\n' b'/home/user/anaconda3/lib/python3.8/site-packages/pytorch_lightning/utilities/distributed.py:69: DeprecationWarning: `pytorch_lightning.metrics.*` module has been renamed to `torchmetrics.*` and split off to its own package (https://github.com/PyTorchLightning/metrics) since v1.3 and will be removed in v1.5\\n  warnings.warn(*args, **kwargs)\\n'\n",
      "b'' b''\n",
      "the end of ramadan. Als well as a short, but\n",
      "b'Working with z of shape (1, 256, 16, 16) = 65536 dimensions.\\nloaded pretrained LPIPS loss from taming/modules/autoencoder/lpips/vgg.pth\\nVQLPIPSWithDiscriminator running with hinge loss.\\nRestored from vqgan_imagenet_f16_16384.ckpt\\n' b'/home/user/anaconda3/lib/python3.8/site-packages/pytorch_lightning/utilities/distributed.py:69: DeprecationWarning: `pytorch_lightning.metrics.*` module has been renamed to `torchmetrics.*` and split off to its own package (https://github.com/PyTorchLightning/metrics) since v1.3 and will be removed in v1.5\\n  warnings.warn(*args, **kwargs)\\n'\n",
      "b'' b''\n",
      "high peak around christmas. Promotions seem to have no correlation\n",
      "b'Working with z of shape (1, 256, 16, 16) = 65536 dimensions.\\nloaded pretrained LPIPS loss from taming/modules/autoencoder/lpips/vgg.pth\\nVQLPIPSWithDiscriminator running with hinge loss.\\nRestored from vqgan_imagenet_f16_16384.ckpt\\n' b'/home/user/anaconda3/lib/python3.8/site-packages/pytorch_lightning/utilities/distributed.py:69: DeprecationWarning: `pytorch_lightning.metrics.*` module has been renamed to `torchmetrics.*` and split off to its own package (https://github.com/PyTorchLightning/metrics) since v1.3 and will be removed in v1.5\\n  warnings.warn(*args, **kwargs)\\n'\n",
      "b'' b''\n",
      "with high sales numbers.\n",
      "b'Working with z of shape (1, 256, 16, 16) = 65536 dimensions.\\nloaded pretrained LPIPS loss from taming/modules/autoencoder/lpips/vgg.pth\\nVQLPIPSWithDiscriminator running with hinge loss.\\nRestored from vqgan_imagenet_f16_16384.ckpt\\n' b'/home/user/anaconda3/lib/python3.8/site-packages/pytorch_lightning/utilities/distributed.py:69: DeprecationWarning: `pytorch_lightning.metrics.*` module has been renamed to `torchmetrics.*` and split off to its own package (https://github.com/PyTorchLightning/metrics) since v1.3 and will be removed in v1.5\\n  warnings.warn(*args, **kwargs)\\n'\n",
      "b'' b''\n"
     ]
    },
    {
     "name": "stderr",
     "output_type": "stream",
     "text": [
      "chunk:  43%|████▎     | 164/379 [00:00<00:00, 1636.11it/s, now=None]"
     ]
    },
    {
     "name": "stdout",
     "output_type": "stream",
     "text": [
      "Moviepy - Building video ./test.mp4.\n",
      "MoviePy - Writing audio in testTEMP_MPY_wvf_snd.mp3\n"
     ]
    },
    {
     "name": "stderr",
     "output_type": "stream",
     "text": [
      "t:  26%|██▌       | 108/420 [00:00<00:00, 1077.18it/s, now=None]    "
     ]
    },
    {
     "name": "stdout",
     "output_type": "stream",
     "text": [
      "MoviePy - Done.\n",
      "Moviepy - Writing video ./test.mp4\n",
      "\n"
     ]
    },
    {
     "name": "stderr",
     "output_type": "stream",
     "text": [
      "                                                                \r"
     ]
    },
    {
     "name": "stdout",
     "output_type": "stream",
     "text": [
      "Moviepy - Done !\n",
      "Moviepy - video ready ./test.mp4\n"
     ]
    },
    {
     "data": {
      "text/plain": [
       "<Figure size 1440x1440 with 0 Axes>"
      ]
     },
     "metadata": {},
     "output_type": "display_data"
    },
    {
     "data": {
      "text/plain": [
       "<Figure size 1440x1440 with 0 Axes>"
      ]
     },
     "metadata": {},
     "output_type": "display_data"
    },
    {
     "data": {
      "text/plain": [
       "<Figure size 1440x1440 with 0 Axes>"
      ]
     },
     "metadata": {},
     "output_type": "display_data"
    },
    {
     "data": {
      "text/plain": [
       "<Figure size 1440x1440 with 0 Axes>"
      ]
     },
     "metadata": {},
     "output_type": "display_data"
    },
    {
     "data": {
      "text/plain": [
       "<Figure size 1440x1440 with 0 Axes>"
      ]
     },
     "metadata": {},
     "output_type": "display_data"
    }
   ],
   "source": [
    "res1 = []\n",
    "\n",
    "chunkx = 10\n",
    "for i in range(max(round(len(PROMPT.split())/chunkx)+1,1)):\n",
    "    print(' '.join(PROMPT.split()[i*chunkx:(i+1)*chunkx]))\n",
    "    audio = apply_tts(texts=' '.join(PROMPT.split()[i*chunkx:(i+1)*chunkx]),\n",
    "                  model=model,\n",
    "                  sample_rate=sample_rate,\n",
    "                  symbols=symbols,\n",
    "                  device=device)\n",
    "    #print(list(audio[0].numpy().flatten()))\n",
    "    \n",
    "    res1.extend(list(audio[0].numpy().flatten()))\n",
    "    \n",
    "    \n",
    "    cmd = '''python -u main.py test cc12m_32x1024_vitgan.th \"''' + str(' '.join(PROMPT.split()[i*chunkx:(i+1)*chunkx])) + '''\"''' + ''' --nb-repeats=''' + str(n) + ''' --out-path=''' + PATH + ''' --images-per-row=''' + str(n)\n",
    "\n",
    "    p = subprocess.Popen(cmd, stdout=subprocess.PIPE, shell=True, stderr=subprocess.PIPE)\n",
    "    stdout, stderr = p.communicate()\n",
    "    print(stdout, stderr)\n",
    "    \n",
    "    plt.figure(figsize = (20,20))\n",
    "    img = mpimg.imread('../output/vqgan/gen.png')\n",
    "    \n",
    "    cmd = '''cp ../output/vqgan/gen.png ../output/vqgan/''' + str(i) + '''.png'''\n",
    "    p = subprocess.Popen(cmd, stdout=subprocess.PIPE, shell=True, stderr=subprocess.PIPE)\n",
    "    stdout, stderr = p.communicate()\n",
    "    print(stdout, stderr)\n",
    "    \n",
    "\n",
    "    # Open an Image\n",
    "    imga = Image.open('../output/vqgan/' + str(i) + '''.png''')\n",
    "\n",
    "    # Call draw Method to add 2D graphics in an image\n",
    "    I1 = ImageDraw.Draw(imga)\n",
    "\n",
    "    # Add Text to an image\n",
    "    if len(' '.join(PROMPT.split()[i*chunkx:(i+1)*chunkx])) > 34:\n",
    "        subt = ' '.join(PROMPT.split()[i*chunkx:(i+1)*chunkx])[:34] + '-\\n' + ' '.join(PROMPT.split()[i*chunkx:(i+1)*chunkx])[34:]\n",
    "    else:\n",
    "        subt = ' '.join(PROMPT.split()[i*chunkx:(i+1)*chunkx])\n",
    "    \n",
    "    I1.text((7, 210),subt, fill =(255, 0, 0), font = ImageFont.truetype(\"impact.ttf\", 16))\n",
    "\n",
    "    # Display edited image\n",
    "    imga.show()\n",
    "\n",
    "        # Save the edited image\n",
    "    imga.save('../output/vqgan/ '+ str(i) + '''_subbed.png''')\n",
    "\n",
    "    #imgplot = plt.imshow(img)\n",
    "    #plt.show()\n",
    "    \n",
    "    \n",
    "os.chdir(\"../output/vqgan/\")    \n",
    "scipy.io.wavfile.write(\"karplus.wav\", 16000, np.asarray(res1))\n",
    "command = f\"ffmpeg -i karplus.wav -vn -ar 44100 -ac 2 -b:a 192k output.mp3\"\n",
    "os.system(command)\n",
    "\n",
    "import glob\n",
    "\n",
    "files_grabbed = glob.glob(\"*_subbed.png\")\n",
    "\n",
    "files_grabbed.sort()\n",
    "files_grabbed = files_grabbed\n",
    "clips = [ImageClip(m).set_duration(0.35*chunkx)\n",
    "         for m in files_grabbed]\n",
    "\n",
    "\n",
    "\n",
    "concat_clip = concatenate_videoclips(clips, method=\"compose\")\n",
    "\n",
    "\n",
    "\n",
    "audioclip = AudioFileClip(\"output.mp3\")\n",
    "\n",
    "new_audioclip = CompositeAudioClip([audioclip])\n",
    "concat_clip.audio = new_audioclip\n",
    "\n",
    "\n",
    "\n",
    "\n",
    "concat_clip.write_videofile(\"./test.mp4\", fps=24)"
   ]
  },
  {
   "cell_type": "code",
   "execution_count": 8,
   "metadata": {},
   "outputs": [
    {
     "data": {
      "text/plain": [
       "0"
      ]
     },
     "execution_count": 8,
     "metadata": {},
     "output_type": "execute_result"
    }
   ],
   "source": [
    "command = f\"rm  karplus.wav output.mp3 *.png\"\n",
    "os.system(command)"
   ]
  },
  {
   "cell_type": "code",
   "execution_count": 9,
   "metadata": {},
   "outputs": [
    {
     "ename": "SyntaxError",
     "evalue": "invalid syntax (<ipython-input-9-a96ba3aab008>, line 1)",
     "output_type": "error",
     "traceback": [
      "\u001b[0;36m  File \u001b[0;32m\"<ipython-input-9-a96ba3aab008>\"\u001b[0;36m, line \u001b[0;32m1\u001b[0m\n\u001b[0;31m    stop here\u001b[0m\n\u001b[0m         ^\u001b[0m\n\u001b[0;31mSyntaxError\u001b[0m\u001b[0;31m:\u001b[0m invalid syntax\n"
     ]
    }
   ],
   "source": [
    "stop here"
   ]
  },
  {
   "cell_type": "code",
   "execution_count": null,
   "metadata": {},
   "outputs": [],
   "source": [
    "res1 = []\n",
    "for i in range(max(round(len(PROMPT)/139),1)):\n",
    "    \n",
    "    audio = apply_tts(texts=PROMPT[i*140:(i+1)*140],\n",
    "                  model=model,\n",
    "                  sample_rate=sample_rate,\n",
    "                  symbols=symbols,\n",
    "                  device=device)\n",
    "    #print(list(audio[0].numpy().flatten()))\n",
    "    \n",
    "    res1.extend(list(audio[0].numpy().flatten()))\n",
    "    #res1.extend([0]*16000)"
   ]
  },
  {
   "cell_type": "code",
   "execution_count": null,
   "metadata": {
    "scrolled": false
   },
   "outputs": [],
   "source": [
    "plt.figure(figsize = (20,20))\n",
    "img = mpimg.imread('../output/vqgan/gen.png')\n",
    "imgplot = plt.imshow(img)\n",
    "plt.show()\n",
    "\n",
    "Audio(res1, rate=16000)\n",
    "\n",
    "\n",
    "\n",
    "\n",
    "scipy.io.wavfile.write(\"karplus.wav\", 16000, np.asarray(res1))"
   ]
  },
  {
   "cell_type": "code",
   "execution_count": null,
   "metadata": {},
   "outputs": [],
   "source": [
    "command = f\"ffmpeg -i karplus.wav -vn -ar 44100 -ac 2 -b:a 192k output.mp3\"\n",
    "os.system(command)"
   ]
  },
  {
   "cell_type": "code",
   "execution_count": null,
   "metadata": {},
   "outputs": [],
   "source": [
    "  \n",
    "clips = [ImageClip(m).set_duration(2)\n",
    "         for m in ['../output/vqgan/gen.png']]\n",
    "\n",
    "\n",
    "\n",
    "concat_clip = concatenate_videoclips(clips, method=\"compose\")\n",
    "\n",
    "\n",
    "\n",
    "audioclip = AudioFileClip(\"output.mp3\")\n",
    "\n",
    "new_audioclip = CompositeAudioClip([audioclip])\n",
    "concat_clip.audio = new_audioclip\n",
    "\n",
    "\n",
    "\n",
    "\n",
    "concat_clip.write_videofile(\"../../test.mp4\", fps=24)\n"
   ]
  },
  {
   "cell_type": "code",
   "execution_count": null,
   "metadata": {},
   "outputs": [],
   "source": [
    "concat_clip.ipython_display(fps=24, loop=0, autoplay=1)"
   ]
  },
  {
   "cell_type": "code",
   "execution_count": null,
   "metadata": {},
   "outputs": [],
   "source": [
    "command = f\"rm  karplus.wav output.mp3\"\n",
    "os.system(command)"
   ]
  },
  {
   "cell_type": "code",
   "execution_count": null,
   "metadata": {},
   "outputs": [],
   "source": []
  },
  {
   "cell_type": "code",
   "execution_count": null,
   "metadata": {},
   "outputs": [],
   "source": []
  },
  {
   "cell_type": "code",
   "execution_count": null,
   "metadata": {},
   "outputs": [],
   "source": []
  },
  {
   "cell_type": "code",
   "execution_count": null,
   "metadata": {},
   "outputs": [],
   "source": []
  }
 ],
 "metadata": {
  "kernelspec": {
   "display_name": "Python 3",
   "language": "python",
   "name": "python3"
  },
  "language_info": {
   "codemirror_mode": {
    "name": "ipython",
    "version": 3
   },
   "file_extension": ".py",
   "mimetype": "text/x-python",
   "name": "python",
   "nbconvert_exporter": "python",
   "pygments_lexer": "ipython3",
   "version": "3.8.3"
  }
 },
 "nbformat": 4,
 "nbformat_minor": 4
}
