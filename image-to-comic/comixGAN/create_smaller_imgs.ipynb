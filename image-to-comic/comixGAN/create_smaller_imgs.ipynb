{
 "cells": [
  {
   "cell_type": "code",
   "execution_count": 1,
   "metadata": {},
   "outputs": [],
   "source": [
    "import os\n",
    "import cv2\n",
    "from skimage.transform import resize\n",
    "from tqdm import tqdm\n"
   ]
  },
  {
   "cell_type": "code",
   "execution_count": 2,
   "metadata": {},
   "outputs": [
    {
     "name": "stderr",
     "output_type": "stream",
     "text": [
      "  0%|          | 0/962 [00:00<?, ?it/s]/home/mpesko/projects/comixify/comixGAN/venv/lib/python3.5/site-packages/skimage/transform/_warps.py:105: UserWarning: The default mode, 'constant', will be changed to 'reflect' in skimage 0.15.\n",
      "  warn(\"The default mode, 'constant', will be changed to 'reflect' in \"\n",
      "/home/mpesko/projects/comixify/comixGAN/venv/lib/python3.5/site-packages/skimage/transform/_warps.py:110: UserWarning: Anti-aliasing will be enabled by default in skimage 0.15 to avoid aliasing artifacts when down-sampling images.\n",
      "  warn(\"Anti-aliasing will be enabled by default in skimage 0.15 to \"\n",
      "100%|██████████| 962/962 [01:16<00:00, 12.51it/s]\n",
      "100%|██████████| 862/862 [01:08<00:00, 12.77it/s]\n",
      "100%|██████████| 100/100 [00:07<00:00, 12.58it/s]\n",
      "100%|██████████| 962/962 [01:26<00:00, 11.15it/s]\n",
      "100%|██████████| 862/862 [01:15<00:00, 11.40it/s]\n",
      "100%|██████████| 100/100 [00:08<00:00, 11.43it/s]\n"
     ]
    }
   ],
   "source": [
    "for DIR in ['comic', 'comic_blurred']:\n",
    "    for sub_dir in ['all', 'train', 'validation']:\n",
    "        for im_name in tqdm(os.listdir('data2/images/{}/{}'.format(DIR, sub_dir))):\n",
    "            img = cv2.imread('data2/images/{}/{}/{}'.format(DIR, sub_dir, im_name))/255            \n",
    "            img = resize(img, (405, 720))\n",
    "            cv2.imwrite('data2/images/{}_405/{}/{}'.format(DIR, sub_dir, im_name), 255*img)\n",
    "            "
   ]
  }
 ],
 "metadata": {
  "kernelspec": {
   "display_name": "Python 3",
   "language": "python",
   "name": "python3"
  },
  "language_info": {
   "codemirror_mode": {
    "name": "ipython",
    "version": 3
   },
   "file_extension": ".py",
   "mimetype": "text/x-python",
   "name": "python",
   "nbconvert_exporter": "python",
   "pygments_lexer": "ipython3",
   "version": "3.5.2"
  }
 },
 "nbformat": 4,
 "nbformat_minor": 2
}
